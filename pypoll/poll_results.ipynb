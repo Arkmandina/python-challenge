{
 "cells": [
  {
   "cell_type": "code",
   "execution_count": 26,
   "id": "6b3917b0",
   "metadata": {},
   "outputs": [],
   "source": [
    "import os\n",
    "import csv\n",
    "\n",
    "\n",
    "# files to load and output\n",
    "file_to_load = os.path.join(\".\", \"Resources\", \"election_data.csv\")\n",
    "file_to_output = os.path.join(\".\", \"election_analysis.txt\")\n",
    "\n",
    "\n"
   ]
  },
  {
   "cell_type": "code",
   "execution_count": 45,
   "id": "bcae7a3f",
   "metadata": {
    "scrolled": true
   },
   "outputs": [
    {
     "name": "stdout",
     "output_type": "stream",
     "text": [
      "{'Charles Casper Stockham': 85213, 'Diana DeGette': 272892, 'Raymon Anthony Doane': 11606}\n",
      "['Charles Casper Stockham', 'Diana DeGette', 'Raymon Anthony Doane']\n"
     ]
    }
   ],
   "source": [
    "#total vote counter\n",
    "total_votes = 0\n",
    "\n",
    "#candidate vote counters and options\n",
    "candidate_votes ={}\n",
    "candidate_options = []\n",
    "\n",
    "#election winner and number of votes\n",
    "winning_candidate = \"\"\n",
    "winning_count =  0\n",
    "\n",
    "with open(file_to_load) as election_data:\n",
    "    \n",
    "    reader = csv.reader(election_data)\n",
    "    \n",
    "    #read header\n",
    "    header = next(reader)\n",
    "    #print(header)\n",
    "    \n",
    "    for row in reader:\n",
    "        #add total votes\n",
    "        total_votes = total_votes + 1\n",
    "        \n",
    "        #gets candidate name from each row\n",
    "        candidate_name = row[2]\n",
    "        \n",
    "        # if doesn't match any known candidate\n",
    "        #loop discovering candidates\n",
    "        \n",
    "        if candidate_name not in candidate_options:\n",
    "           \n",
    "            #add it the list of candidates\n",
    "            candidate_options.append(candidate_name)\n",
    "\n",
    "            candidate_votes[candidate_name] = 0\n",
    "            \n",
    "        candidate_votes[candidate_name] += 1\n",
    "            \n",
    "print(candidate_votes)\n",
    "print(candidate_options)\n"
   ]
  },
  {
   "cell_type": "code",
   "execution_count": 48,
   "id": "a9248f14",
   "metadata": {},
   "outputs": [
    {
     "name": "stdout",
     "output_type": "stream",
     "text": [
      "Election Results\n",
      "----------------------\n",
      "Total Votes: 369711 \n",
      "----------------------\n",
      "\n",
      "Charles Casper Stockham: 23.049% (85213)\n",
      "\n",
      "Diana DeGette: 73.812% (272892)\n",
      "\n",
      "Raymon Anthony Doane: 3.139% (11606)\n",
      "\n",
      "----------------------\n",
      "Winner: Diana DeGette \n",
      "----------------------\n",
      "\n"
     ]
    }
   ],
   "source": [
    "#creating table\n",
    "with open(file_to_output, \"w\") as txt_file:\n",
    "    election_results = (\n",
    "        f\"Election Results\\n\"\n",
    "        f\"----------------------\\n\"\n",
    "        f\"Total Votes: {total_votes} \\n\"\n",
    "        f\"----------------------\\n\"\n",
    "         \n",
    "    )\n",
    "    print(election_results)  \n",
    "    \n",
    "    txt_file.write(election_results)\n",
    "    \n",
    "    #finding vote count and percentage for candidates\n",
    "    for candidate in candidate_votes:\n",
    "        votes = candidate_votes[candidate]\n",
    "        vote_percentage = float(votes) / float(total_votes) *100\n",
    "        \n",
    "        if (votes > winning_count):\n",
    "            winning_count = votes\n",
    "            winning_candidate = candidate\n",
    "        \n",
    "        voter_output = f\"{candidate}: {vote_percentage:.3f}% ({votes})\\n\"\n",
    "        \n",
    "    \n",
    "        print(voter_output)    \n",
    "        \n",
    "        txt_file.write(voter_output)\n",
    "    \n",
    "    #summarizing the actual winner\n",
    "    winning_candidate_summary = (\n",
    "        f\"----------------------\\n\"\n",
    "        f\"Winner: {winning_candidate} \\n\"\n",
    "        f\"----------------------\\n\"\n",
    "    )\n",
    "    print(winning_candidate_summary)\n",
    "    \n",
    "    txt_file.write(winning_candidate_summary)"
   ]
  }
 ],
 "metadata": {
  "kernelspec": {
   "display_name": "Python 3 (ipykernel)",
   "language": "python",
   "name": "python3"
  },
  "language_info": {
   "codemirror_mode": {
    "name": "ipython",
    "version": 3
   },
   "file_extension": ".py",
   "mimetype": "text/x-python",
   "name": "python",
   "nbconvert_exporter": "python",
   "pygments_lexer": "ipython3",
   "version": "3.9.7"
  }
 },
 "nbformat": 4,
 "nbformat_minor": 5
}
