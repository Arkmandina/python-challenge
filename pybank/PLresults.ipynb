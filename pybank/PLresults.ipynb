{
 "cells": [
  {
   "cell_type": "code",
   "execution_count": 9,
   "id": "36875239",
   "metadata": {},
   "outputs": [],
   "source": [
    "import csv\n",
    "import os\n",
    "\n",
    "\n",
    "file_to_load = os.path.join (\".\", \"Resources\", \"budget_data.csv\")\n",
    "\n",
    "file_to_output = os.path.join (\".\", 'budget_analysis.txt')\n",
    "\n",
    "total_months = 0\n",
    "total_net = 0\n",
    "\n",
    "net_change_list = []\n",
    "month_change = []\n",
    "\n",
    "increase = [\"\", 0]\n",
    "decrease = [\"\", 999999999999999999]\n"
   ]
  },
  {
   "cell_type": "code",
   "execution_count": 10,
   "id": "20dfc6e9",
   "metadata": {
    "scrolled": true
   },
   "outputs": [],
   "source": [
    "#read the csv and covert to list\n",
    "with open(file_to_load) as financial_data:\n",
    "    \n",
    "    reader = csv.reader(financial_data)\n",
    "    \n",
    "    \n",
    "    #read the top row as header\n",
    "    header = next(reader)\n",
    "    \n",
    "    #print(F\"Header: {header}\")\n",
    "    first_row = next(reader)\n",
    "    \n",
    "    total_net += int(first_row[1]) #1088983\n",
    "    previous_net = int(first_row[1]) #1088983\n",
    "    \n",
    "    total_months += 1\n",
    "    \n",
    "    for row in reader:\n",
    "       \n",
    "        #Find the total\n",
    "        #total_months = total_months + 1\n",
    "        total_months += 1\n",
    "        total_net += int(row[1])\n",
    "      \n",
    "    \n",
    "        #Track net change\n",
    "        net_change = int(row[1]) - previous_net\n",
    "        previous_net = int(row[1])\n",
    "        net_change_list.append(net_change)\n",
    " \n",
    "    \n",
    "    \n",
    "        # calculate greatest increase\n",
    "        if(net_change > increase[1]):\n",
    "            increase[0] = row[0]\n",
    "            increase[1] = net_change\n",
    "\n",
    "       # calculate greatest decrease\n",
    "        if(net_change < decrease[1]):\n",
    "            decrease[0] = row [0]\n",
    "            decrease[1] = net_change\n",
    "\n",
    "\n",
    "net_monthly_average = sum(net_change_list)/ len(net_change_list)"
   ]
  },
  {
   "cell_type": "code",
   "execution_count": 11,
   "id": "10e574fe",
   "metadata": {},
   "outputs": [
    {
     "name": "stdout",
     "output_type": "stream",
     "text": [
      "Financial Analysis\n",
      "---------------------------\n",
      "Total Months: 86\n",
      " Total: $22564198\n",
      " Average Change: $-8311.11\n",
      " Greatest Increase in Profits: Aug-16 ($1862002)\n",
      " Greatest Decrease in Profits: Feb-14 ($-1825558)\n"
     ]
    }
   ],
   "source": [
    "    \n",
    "results = (\n",
    "    f\"Financial Analysis\\n\"\n",
    "    F\"---------------------------\\n\"\n",
    "    f\"Total Months: {total_months}\\n\"\n",
    "    f\" Total: ${total_net}\\n\"\n",
    "    f\" Average Change: ${net_monthly_average:.2f}\\n\"\n",
    "    f\" Greatest Increase in Profits: {increase[0]} (${increase[1]})\\n\"\n",
    "    f\" Greatest Decrease in Profits: {decrease[0]} (${decrease[1]})\"\n",
    "    \n",
    ")\n",
    "\n",
    "print(results)"
   ]
  },
  {
   "cell_type": "code",
   "execution_count": 8,
   "id": "19c6f5ba",
   "metadata": {},
   "outputs": [],
   "source": [
    "with open(file_to_output, \"w\") as txt_file:\n",
    "    txt_file.write(results)"
   ]
  },
  {
   "cell_type": "code",
   "execution_count": null,
   "id": "5dbeb783",
   "metadata": {},
   "outputs": [],
   "source": []
  },
  {
   "cell_type": "code",
   "execution_count": null,
   "id": "5aafa373",
   "metadata": {
    "scrolled": true
   },
   "outputs": [],
   "source": []
  },
  {
   "cell_type": "code",
   "execution_count": null,
   "id": "af5357b5",
   "metadata": {},
   "outputs": [],
   "source": []
  },
  {
   "cell_type": "code",
   "execution_count": null,
   "id": "ef2de608",
   "metadata": {
    "scrolled": true
   },
   "outputs": [],
   "source": []
  },
  {
   "cell_type": "code",
   "execution_count": null,
   "id": "4d20c294",
   "metadata": {},
   "outputs": [],
   "source": []
  },
  {
   "cell_type": "code",
   "execution_count": null,
   "id": "a89863e4",
   "metadata": {},
   "outputs": [],
   "source": []
  },
  {
   "cell_type": "code",
   "execution_count": null,
   "id": "e1957e35",
   "metadata": {
    "scrolled": false
   },
   "outputs": [],
   "source": []
  },
  {
   "cell_type": "code",
   "execution_count": null,
   "id": "a463e2dd",
   "metadata": {},
   "outputs": [],
   "source": []
  },
  {
   "cell_type": "code",
   "execution_count": null,
   "id": "0738d9b5",
   "metadata": {},
   "outputs": [],
   "source": []
  },
  {
   "cell_type": "code",
   "execution_count": null,
   "id": "103f1e2e",
   "metadata": {},
   "outputs": [],
   "source": [
    "\n"
   ]
  },
  {
   "cell_type": "code",
   "execution_count": null,
   "id": "c9ca1c33",
   "metadata": {},
   "outputs": [],
   "source": []
  }
 ],
 "metadata": {
  "kernelspec": {
   "display_name": "Python 3 (ipykernel)",
   "language": "python",
   "name": "python3"
  },
  "language_info": {
   "codemirror_mode": {
    "name": "ipython",
    "version": 3
   },
   "file_extension": ".py",
   "mimetype": "text/x-python",
   "name": "python",
   "nbconvert_exporter": "python",
   "pygments_lexer": "ipython3",
   "version": "3.9.7"
  }
 },
 "nbformat": 4,
 "nbformat_minor": 5
}
